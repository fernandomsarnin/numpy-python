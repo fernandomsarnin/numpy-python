{
 "cells": [
  {
   "cell_type": "markdown",
   "metadata": {},
   "source": [
    "#### Exemplos em NUMPY"
   ]
  },
  {
   "cell_type": "code",
   "execution_count": 4,
   "metadata": {},
   "outputs": [],
   "source": [
    "#Importando a Biblioteca Numpy\n",
    "\n",
    "import numpy as np"
   ]
  },
  {
   "cell_type": "markdown",
   "metadata": {},
   "source": [
    "##### Aqui vamos criar uma lista com vendas realizada ao longo de 2 semanas."
   ]
  },
  {
   "cell_type": "code",
   "execution_count": 12,
   "metadata": {},
   "outputs": [
    {
     "name": "stdout",
     "output_type": "stream",
     "text": [
      "1\n",
      "(14,)\n",
      "[1200 1300 1450 1650 1750  850  780 1500 1900  800 1520 2500  854 3500]\n"
     ]
    }
   ],
   "source": [
    "vendas = np.array([1200, 1300, 1450, 1650, 1750, 850, 780, 1500 , 1900, 800, 1520, 2500, 854, 3500 ])\n",
    "print(vendas.ndim) # aqui o vemos quantas listas temos.\n",
    "print(vendas.shape) # aqui verificamos quantas itens temos dentro da lista.\n",
    "print(vendas) # aqui vemos a nossa lista como um todo."
   ]
  },
  {
   "cell_type": "markdown",
   "metadata": {},
   "source": [
    "##### No exemplo abaixo vamos realizar a soma dos itens a funçao np.sum().\n",
    "###### Vamos aproveitar para trabalhar a edição da String."
   ]
  },
  {
   "cell_type": "code",
   "execution_count": 21,
   "metadata": {},
   "outputs": [
    {
     "name": "stdout",
     "output_type": "stream",
     "text": [
      "R$ 21554.00\n",
      "O valor total de vendas das 02 semanas é de R$ 21,554.00\n"
     ]
    }
   ],
   "source": [
    "# podemos usar o np.sum() para somar os elementos da nossa lista:\n",
    "print(f'R$ {np.sum(vendas):.2f}') \n",
    "# podemos editar nossa String para tornar nosso resultado mais apresentável:\n",
    "print('O valor total de vendas das 02 semanas é de R$ {:,.2f}'.format(np.sum(vendas)))\n",
    "\n"
   ]
  },
  {
   "cell_type": "markdown",
   "metadata": {},
   "source": []
  }
 ],
 "metadata": {
  "kernelspec": {
   "display_name": "Python 3",
   "language": "python",
   "name": "python3"
  },
  "language_info": {
   "codemirror_mode": {
    "name": "ipython",
    "version": 3
   },
   "file_extension": ".py",
   "mimetype": "text/x-python",
   "name": "python",
   "nbconvert_exporter": "python",
   "pygments_lexer": "ipython3",
   "version": "3.12.3"
  }
 },
 "nbformat": 4,
 "nbformat_minor": 2
}
