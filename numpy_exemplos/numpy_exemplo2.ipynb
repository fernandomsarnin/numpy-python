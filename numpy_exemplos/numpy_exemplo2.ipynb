{
 "cells": [
  {
   "cell_type": "code",
   "execution_count": 53,
   "metadata": {},
   "outputs": [],
   "source": [
    "import numpy as np\n",
    "import random"
   ]
  },
  {
   "cell_type": "markdown",
   "metadata": {},
   "source": [
    "### Creando listas aleatórias com NUMPY\n",
    "\n",
    "##### Para que isso seja possível temos que baixar a biblioteca RANDOM para criar um gerador (rng) e a partir dele gerar nossas lista aleatórios, que obedecerão os parâmetros fornecidos, onde poderemos realizar nossas análises."
   ]
  },
  {
   "cell_type": "code",
   "execution_count": 54,
   "metadata": {},
   "outputs": [
    {
     "name": "stdout",
     "output_type": "stream",
     "text": [
      "Generator(PCG64)\n"
     ]
    }
   ],
   "source": [
    "rng = np.random.default_rng()\n",
    "print(rng)"
   ]
  },
  {
   "cell_type": "code",
   "execution_count": 55,
   "metadata": {},
   "outputs": [
    {
     "name": "stdout",
     "output_type": "stream",
     "text": [
      "[31 45 43 38 38 47 31]\n"
     ]
    }
   ],
   "source": [
    "rng = np.random.default_rng(seed=42)\n",
    "valor_unitario = rng.integers(low=30, high=50, size=7 )\n",
    "print(valor_unitario)"
   ]
  },
  {
   "cell_type": "code",
   "execution_count": 56,
   "metadata": {},
   "outputs": [
    {
     "name": "stdout",
     "output_type": "stream",
     "text": [
      "[135 409 361 275 273 443 134]\n"
     ]
    }
   ],
   "source": [
    "rng = np.random.default_rng(seed=42)\n",
    "qtde_vendida = rng.integers(low=100, high=500, size=7 )\n",
    "print(qtde_vendida)"
   ]
  },
  {
   "cell_type": "code",
   "execution_count": 57,
   "metadata": {},
   "outputs": [
    {
     "name": "stdout",
     "output_type": "stream",
     "text": [
      "Valor unitário de cada item\n",
      "[31 45 43 38 38 47 31]\n",
      "Quantidade vendida de cada item em um dia\n",
      "[135 409 361 275 273 443 134]\n",
      "O faturamento total de 01 semana foi de R$ 83,912.00\n"
     ]
    }
   ],
   "source": [
    "print('Valor unitário de cada item')\n",
    "print(valor_unitario)\n",
    "print('Quantidade vendida de cada item em um dia')\n",
    "print(qtde_vendida)\n",
    "\n",
    "print(f'O faturamento total de 01 semana foi de R$ {np.dot(qtde_vendida, valor_unitario):,.2f}')"
   ]
  },
  {
   "cell_type": "markdown",
   "metadata": {},
   "source": []
  }
 ],
 "metadata": {
  "kernelspec": {
   "display_name": "Python 3",
   "language": "python",
   "name": "python3"
  },
  "language_info": {
   "codemirror_mode": {
    "name": "ipython",
    "version": 3
   },
   "file_extension": ".py",
   "mimetype": "text/x-python",
   "name": "python",
   "nbconvert_exporter": "python",
   "pygments_lexer": "ipython3",
   "version": "3.12.3"
  }
 },
 "nbformat": 4,
 "nbformat_minor": 2
}
