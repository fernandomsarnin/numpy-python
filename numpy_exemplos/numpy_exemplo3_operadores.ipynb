{
 "cells": [
  {
   "cell_type": "markdown",
   "metadata": {},
   "source": [
    "### Vamos usar alguns operadores do NUMPY no exemplo abaixo\n",
    "##### Para isso vamos baixar as bibliotecas Numpy e Random"
   ]
  },
  {
   "cell_type": "code",
   "execution_count": 6,
   "metadata": {},
   "outputs": [],
   "source": [
    "import numpy as np\n",
    "import random"
   ]
  },
  {
   "cell_type": "code",
   "execution_count": 8,
   "metadata": {},
   "outputs": [
    {
     "name": "stdout",
     "output_type": "stream",
     "text": [
      "Generator(PCG64)\n"
     ]
    }
   ],
   "source": [
    "# Para criar listas aleatórias vamos criar um gerador aleatório (RNG)\n",
    "\n",
    "rng = np.random.default_rng()\n",
    "print(rng)"
   ]
  },
  {
   "cell_type": "code",
   "execution_count": 19,
   "metadata": {},
   "outputs": [
    {
     "name": "stdout",
     "output_type": "stream",
     "text": [
      "[ 76 282 246 181 179 307  75 259 110  78 207 342 270 278 265 285 203  88\n",
      " 301 185 200 161 104 328 284 243 170 296 213 183]\n"
     ]
    }
   ],
   "source": [
    "rng = np.random.default_rng(seed=42) # essa linha de código fixa os valores da lista criada para que todos possam trabalhar com os mesmo dados, pois, sem ele, cada vez que rodarmos essa linha de código, os valores seriam alterados. Por isso, usamos ele como um fixador de valores.\n",
    "vendas_em_30dias = rng.integers(low=50, high=350, size=30)\n",
    "print(vendas_em_30dias)"
   ]
  },
  {
   "cell_type": "code",
   "execution_count": 26,
   "metadata": {},
   "outputs": [
    {
     "name": "stdout",
     "output_type": "stream",
     "text": [
      "O valor máximo de vendas foi de R$ 342.00 e aconteceu no dia 12.\n"
     ]
    }
   ],
   "source": [
    "# primeira análise será descobrir com foi o valor máximo vendido com a função np.max() e o dia com a função np.agmax()\n",
    "\n",
    "print(f'O valor máximo de vendas foi de R$ {np.max(vendas_em_30dias):.2f} e aconteceu no dia {np.argmax(vendas_em_30dias)+1}.')"
   ]
  },
  {
   "cell_type": "code",
   "execution_count": 27,
   "metadata": {},
   "outputs": [
    {
     "name": "stdout",
     "output_type": "stream",
     "text": [
      "O valor mínimo de vendas de vendas foi de R$ 75 e aconteceu no dia 7.\n"
     ]
    }
   ],
   "source": [
    "# Aqui verificamos o valor mínimo com a função np.min() e o dia em que ele aconteceu com a função np.argm\n",
    "\n",
    "print(f'O valor mínimo de vendas de vendas foi de R$ {np.min(vendas_em_30dias)} e aconteceu no dia {np.argmin(vendas_em_30dias)+1}.')"
   ]
  },
  {
   "cell_type": "code",
   "execution_count": 29,
   "metadata": {},
   "outputs": [
    {
     "name": "stdout",
     "output_type": "stream",
     "text": [
      " O valor médio de vendas dentro dos 30 dias foi de R$ 213.30\n"
     ]
    }
   ],
   "source": [
    "# Aqui vamos verifica o valor médio de vendas com a função np.mean()\n",
    "\n",
    "print(f' O valor médio de vendas dentro dos 30 dias foi de R$ {np.mean(vendas_em_30dias):.2f}')"
   ]
  },
  {
   "cell_type": "code",
   "execution_count": 33,
   "metadata": {},
   "outputs": [
    {
     "name": "stdout",
     "output_type": "stream",
     "text": [
      "O dia que teve o maior valor de vendas foi no dia 12.\n",
      "O dia que teve o menor valor de vendas foi no dia 7.\n"
     ]
    }
   ],
   "source": [
    "# A função np.argmax() e np.argmin() precisam vir acompanhadas de +1, pois a lista sempre conta a partir do índice '0'. Portanto, para funcionar com exatidão elas precisam estar conforme mostramos abaixo:\n",
    "\n",
    "print(f'O dia que teve o maior valor de vendas foi no dia {np.argmax(vendas_em_30dias)+1}.')\n",
    "print(f'O dia que teve o menor valor de vendas foi no dia {np.argmin(vendas_em_30dias)+1}.')"
   ]
  },
  {
   "cell_type": "code",
   "execution_count": 36,
   "metadata": {},
   "outputs": [
    {
     "name": "stdout",
     "output_type": "stream",
     "text": [
      "A soma total dos valores unitários é de R$ 6,399.00.\n"
     ]
    }
   ],
   "source": [
    "# Aqui foi possível checar o valor total de vendas em todo o período com a função np.sum()\n",
    "\n",
    "print(f'A soma total dos valores unitários é de R$ {np.sum(vendas_em_30dias):,.2f}.')\n"
   ]
  },
  {
   "cell_type": "code",
   "execution_count": 38,
   "metadata": {},
   "outputs": [
    {
     "name": "stdout",
     "output_type": "stream",
     "text": [
      "O valor máximo de vendas foi de R$ 342.00 e aconteceu no dia 12.\n",
      "O valor mínimo de vendas de vendas foi de R$ 75 e aconteceu no dia 7.\n",
      " O valor médio de vendas dentro dos 30 dias foi de R$ 213.30\n",
      "O dia que teve o maior valor de vendas foi no dia 12.\n",
      "O dia que teve o menor valor de vendas foi no dia 7.\n",
      "A soma total dos valores é de R$ 6,399.00.\n"
     ]
    }
   ],
   "source": [
    "# Agora vamos ver todas as análises realizadas na sequência:\n",
    "print(f'O valor máximo de vendas foi de R$ {np.max(vendas_em_30dias):.2f} e aconteceu no dia {np.argmax(vendas_em_30dias)+1}.')\n",
    "print(f'O valor mínimo de vendas de vendas foi de R$ {np.min(vendas_em_30dias)} e aconteceu no dia {np.argmin(vendas_em_30dias)+1}.')\n",
    "print(f' O valor médio de vendas dentro dos 30 dias foi de R$ {np.mean(vendas_em_30dias):.2f}')\n",
    "print(f'O dia que teve o maior valor de vendas foi no dia {np.argmax(vendas_em_30dias)+1}.')\n",
    "print(f'O dia que teve o menor valor de vendas foi no dia {np.argmin(vendas_em_30dias)+1}.')\n",
    "print(f'A soma total dos valores é de R$ {np.sum(vendas_em_30dias):,.2f}.')\n"
   ]
  }
 ],
 "metadata": {
  "kernelspec": {
   "display_name": "Python 3",
   "language": "python",
   "name": "python3"
  },
  "language_info": {
   "codemirror_mode": {
    "name": "ipython",
    "version": 3
   },
   "file_extension": ".py",
   "mimetype": "text/x-python",
   "name": "python",
   "nbconvert_exporter": "python",
   "pygments_lexer": "ipython3",
   "version": "3.12.3"
  }
 },
 "nbformat": 4,
 "nbformat_minor": 2
}
